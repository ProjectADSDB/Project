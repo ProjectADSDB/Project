{
  "nbformat": 4,
  "nbformat_minor": 0,
  "metadata": {
    "colab": {
      "provenance": []
    },
    "kernelspec": {
      "name": "python3",
      "display_name": "Python 3"
    },
    "language_info": {
      "name": "python"
    }
  },
  "cells": [
    {
      "cell_type": "code",
      "source": [
        "# Import necessary libraries\n",
        "import os\n",
        "import shutil\n",
        "\n",
        "\n",
        "# Mount Google Drive to Colab\n",
        "from google.colab import drive\n",
        "drive.mount('/content/drive')\n",
        "\n",
        "\n",
        "# Install and Setup PostgreSQL\n",
        "!apt-get -y -qq install postgresql postgresql-contrib &> /dev/null\n",
        "!service postgresql start\n",
        "!sudo -u postgres createuser --superuser adsdb\n",
        "!sudo -u postgres createdb adsdb\n",
        "!sudo -u postgres psql -c \"ALTER USER adsdb WITH PASSWORD 'adsdb';\""
      ],
      "metadata": {
        "colab": {
          "base_uri": "https://localhost:8080/"
        },
        "id": "an_IMTa0mirz",
        "outputId": "638ee3ba-393f-4a3d-cc45-ae035a47a6b7"
      },
      "execution_count": null,
      "outputs": [
        {
          "output_type": "stream",
          "name": "stdout",
          "text": [
            "Drive already mounted at /content/drive; to attempt to forcibly remount, call drive.mount(\"/content/drive\", force_remount=True).\n",
            " * Starting PostgreSQL 14 database server\n",
            "   ...done.\n",
            "ALTER ROLE\n"
          ]
        }
      ]
    },
    {
      "cell_type": "code",
      "source": [
        "drive_path = \"/content/drive/MyDrive/ADSDB/trusted/dumpfile.sql\"\n",
        "dump_path= \"/content/dumpfile.sql\"\n",
        "# Check if the dumpfile exists in the Google Drive\n",
        "if not os.path.exists(drive_path):\n",
        "  print(\"Dump file not found in Google Drive.\")\n",
        "\n",
        "\n",
        "# Copy the dumpfile from Google Drive to Colab's environment\n",
        "shutil.copy(drive_path, dump_path)\n",
        "# Create a temporary .pgpass file for authentication\n",
        "with open(\"/root/.pgpass\", \"w\") as f:\n",
        "  f.write(\"*:*:*:adsdb:adsdb\")\n",
        "os.chmod(\"/root/.pgpass\", 0o600)  # Set the required permissions\n",
        "\n",
        "# Restore the database using psql command\n",
        "try:\n",
        "  !PGPASSFILE=/root/.pgpass psql -h localhost -U adsdb -d adsdb < \"{dump_path}\"\n",
        "  print(\"Restoration successful!\")\n",
        "except Exception as e:\n",
        "  print(f\"Error during restoration: {e}\")"
      ],
      "metadata": {
        "colab": {
          "base_uri": "https://localhost:8080/"
        },
        "id": "CJo-6Y84mvDd",
        "outputId": "267264dc-d8ee-4fbe-dfc2-d553822c5690"
      },
      "execution_count": null,
      "outputs": [
        {
          "output_type": "stream",
          "name": "stdout",
          "text": [
            "SET\n",
            "SET\n",
            "SET\n",
            "SET\n",
            "SET\n",
            " set_config \n",
            "------------\n",
            " \n",
            "(1 row)\n",
            "\n",
            "SET\n",
            "SET\n",
            "SET\n",
            "SET\n",
            "SET\n",
            "SET\n",
            "CREATE TABLE\n",
            "ALTER TABLE\n",
            "CREATE TABLE\n",
            "ALTER TABLE\n",
            "CREATE TABLE\n",
            "ALTER TABLE\n",
            "CREATE TABLE\n",
            "ALTER TABLE\n",
            "COPY 28620\n",
            "COPY 14400\n",
            "COPY 900\n",
            "COPY 15\n",
            "Restoration successful!\n"
          ]
        }
      ]
    },
    {
      "cell_type": "code",
      "source": [
        "!PGPASSFILE=/root/.pgpass psql -h localhost -U adsdb -d adsdb -c \"SELECT table_name FROM information_schema.tables WHERE table_schema='public';\""
      ],
      "metadata": {
        "colab": {
          "base_uri": "https://localhost:8080/"
        },
        "id": "tPdIiqhWpZjt",
        "outputId": "6bb37940-8f8d-402c-8196-fe0a239e2335"
      },
      "execution_count": null,
      "outputs": [
        {
          "output_type": "stream",
          "name": "stdout",
          "text": [
            "           table_name            \n",
            "---------------------------------\n",
            " final_employment_rate\n",
            " final_house_price_index\n",
            " final_house_price_index_weights\n",
            " final_inflation_rate\n",
            "(4 rows)\n",
            "\n"
          ]
        }
      ]
    },
    {
      "cell_type": "code",
      "source": [
        "table_names = ['final_employment_rate', 'final_house_price_index_weights', 'final_inflation_rate', 'final_house_price_index']\n",
        "\n",
        "def show_table(table_name):\n",
        "  display_query = f\"SELECT * FROM {table_name} LIMIT 20;\"\n",
        "  !PGPASSFILE=/root/.pgpass psql -h localhost -U adsdb -d adsdb -c \"{display_query}\"\n",
        "\n",
        "def check_for_duplicates(table_name):\n",
        "    if 'inflation' in table_name:\n",
        "      duplicate_query = f\"\"\"\n",
        "      SELECT year, count(*)\n",
        "      FROM {table_name}\n",
        "      GROUP BY year\n",
        "      HAVING COUNT(*) > 1\n",
        "      LIMIT 20;\n",
        "      \"\"\"\n",
        "    elif 'employment' in table_name:\n",
        "      duplicate_query = f\"\"\"\n",
        "      SELECT year, quarter, provinces, rates, sex, count(*)\n",
        "      FROM {table_name}\n",
        "      GROUP BY year, quarter, provinces, rates, sex\n",
        "      HAVING COUNT(*) > 1\n",
        "      ORDER BY year, quarter\n",
        "      LIMIT 20;\n",
        "      \"\"\"\n",
        "    elif 'weights' in table_name:\n",
        "      duplicate_query = f\"\"\"\n",
        "      SELECT year, autonomous_communities_and_cities , index_type, count(*)\n",
        "      FROM {table_name}\n",
        "      GROUP BY year, autonomous_communities_and_cities , index_type\n",
        "      HAVING COUNT(*) > 1\n",
        "      LIMIT 20;\n",
        "      \"\"\"\n",
        "    elif (table_name == 'final_house_price_index'):\n",
        "      duplicate_query = f\"\"\"\n",
        "      SELECT year, quarter, indices_and_rates, index_type, autonomous_communities_and_cities, national_total, count(*)\n",
        "      FROM {table_name}\n",
        "      GROUP BY year, quarter, indices_and_rates, index_type, autonomous_communities_and_cities, national_total\n",
        "      HAVING COUNT(*) > 1\n",
        "      LIMIT 20;\n",
        "      \"\"\"\n",
        "    !PGPASSFILE=/root/.pgpass psql -h localhost -U adsdb -d adsdb -c \"{duplicate_query}\"\n",
        "\n",
        "for table_name in table_names:\n",
        "  #get_primary_keys(table_name)\n",
        "  check_for_duplicates(table_name)"
      ],
      "metadata": {
        "colab": {
          "base_uri": "https://localhost:8080/"
        },
        "id": "jzfuz_tWmvMa",
        "outputId": "f0a026d4-ff69-4fb7-cf33-83df2d902f5b"
      },
      "execution_count": null,
      "outputs": [
        {
          "output_type": "stream",
          "name": "stdout",
          "text": [
            " year | quarter | provinces | rates | sex | count \n",
            "------+---------+-----------+-------+-----+-------\n",
            "(0 rows)\n",
            "\n",
            " year | autonomous_communities_and_cities | index_type | count \n",
            "------+-----------------------------------+------------+-------\n",
            "(0 rows)\n",
            "\n",
            " year | count \n",
            "------+-------\n",
            "(0 rows)\n",
            "\n",
            " year | quarter | indices_and_rates | index_type | autonomous_communities_and_cities | national_total | count \n",
            "------+---------+-------------------+------------+-----------------------------------+----------------+-------\n",
            "(0 rows)\n",
            "\n"
          ]
        }
      ]
    },
    {
      "cell_type": "code",
      "source": [
        "show_table('final_inflation_rate')\n",
        "show_table('final_employment_rate')\n"
      ],
      "metadata": {
        "colab": {
          "base_uri": "https://localhost:8080/"
        },
        "id": "mqLsG5JfGuow",
        "outputId": "0ee22036-f809-417f-b0f6-1eb601955c7e"
      },
      "execution_count": null,
      "outputs": [
        {
          "output_type": "stream",
          "name": "stdout",
          "text": [
            " year | inflation_rate_percent | annual_change \n",
            "------+------------------------+---------------\n",
            " 2008 |                   4.08 |          1.29\n",
            " 2009 |                  -0.29 |         -4.36\n",
            " 2010 |                   1.80 |          2.09\n",
            " 2011 |                   3.20 |          1.40\n",
            " 2012 |                   2.45 |         -0.75\n",
            " 2013 |                   1.41 |         -1.04\n",
            " 2014 |                  -0.15 |         -1.56\n",
            " 2015 |                  -0.50 |         -0.35\n",
            " 2016 |                  -0.20 |          0.30\n",
            " 2017 |                   1.96 |          2.16\n",
            " 2018 |                   1.68 |         -0.28\n",
            " 2019 |                   0.70 |         -0.98\n",
            " 2020 |                  -0.32 |         -1.02\n",
            " 2021 |                   3.09 |          3.42\n",
            " 2022 |                   8.39 |          5.30\n",
            "(15 rows)\n",
            "\n",
            " id | year |    sex     |   provinces    |       rates       | total | quarter \n",
            "----+------+------------+----------------+-------------------+-------+---------\n",
            "  1 | 2008 | Both sexes | National Total | Activity rate     | 60.35 |       4\n",
            "  2 | 2008 | Both sexes | National Total | Activity rate     | 60.23 |       3\n",
            "  3 | 2008 | Both sexes | National Total | Activity rate     | 60.07 |       2\n",
            "  4 | 2008 | Both sexes | National Total | Activity rate     | 59.67 |       1\n",
            "  5 | 2008 | Both sexes | National Total | Unemployment rate | 13.79 |       4\n",
            "  6 | 2008 | Both sexes | National Total | Unemployment rate | 11.23 |       3\n",
            "  7 | 2008 | Both sexes | National Total | Unemployment rate | 10.36 |       2\n",
            "  8 | 2008 | Both sexes | National Total | Unemployment rate |  9.60 |       1\n",
            "  9 | 2008 | Both sexes | National Total | Employment rate   | 52.03 |       4\n",
            " 10 | 2008 | Both sexes | National Total | Employment rate   | 53.47 |       3\n",
            " 11 | 2008 | Both sexes | National Total | Employment rate   | 53.85 |       2\n",
            " 12 | 2008 | Both sexes | National Total | Employment rate   | 53.94 |       1\n",
            " 13 | 2008 | Both sexes | 02 Albacete    | Activity rate     | 58.78 |       4\n",
            " 14 | 2008 | Both sexes | 02 Albacete    | Activity rate     | 59.82 |       3\n",
            " 15 | 2008 | Both sexes | 02 Albacete    | Activity rate     | 58.29 |       2\n",
            " 16 | 2008 | Both sexes | 02 Albacete    | Activity rate     | 58.41 |       1\n",
            " 17 | 2008 | Both sexes | 02 Albacete    | Unemployment rate | 17.00 |       4\n",
            " 18 | 2008 | Both sexes | 02 Albacete    | Unemployment rate | 11.47 |       3\n",
            " 19 | 2008 | Both sexes | 02 Albacete    | Unemployment rate | 10.37 |       2\n",
            " 20 | 2008 | Both sexes | 02 Albacete    | Unemployment rate |  9.95 |       1\n",
            "(20 rows)\n",
            "\n"
          ]
        }
      ]
    }
  ]
}